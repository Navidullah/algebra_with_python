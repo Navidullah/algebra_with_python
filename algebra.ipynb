{
 "cells": [
  {
   "cell_type": "markdown",
   "metadata": {},
   "source": [
    "### How to solve for \"x\" variable"
   ]
  },
  {
   "cell_type": "markdown",
   "metadata": {},
   "source": [
    "##### SymPy is a very versatile library for symbolic mathematics. You can use it for a wide range of tasks including algebra, calculus, and linear algebra. The examples provided above should help you get started with using SymPy in your Python projects. SymPy is a powerful Python library for symbolic mathematics. To get started with SymPy, you need to install it and then import it in your Python script. Here's a basic guide on how to use SymPy.\n",
    "##### Installation\n",
    "##### pip install sympy"
   ]
  },
  {
   "cell_type": "code",
   "execution_count": 10,
   "metadata": {},
   "outputs": [],
   "source": [
    "# Importing sympy\n",
    "from sympy import *\n"
   ]
  },
  {
   "cell_type": "markdown",
   "metadata": {},
   "source": [
    "#### Basic Usage"
   ]
  },
  {
   "cell_type": "code",
   "execution_count": 11,
   "metadata": {},
   "outputs": [],
   "source": [
    "# first define symbols you want to use\n",
    "x, y, z = symbols('x y z')\n"
   ]
  },
  {
   "cell_type": "markdown",
   "metadata": {},
   "source": [
    "### Simplifying Expressions\n",
    "#### You can simplify mathematical expressions:"
   ]
  },
  {
   "cell_type": "code",
   "execution_count": 12,
   "metadata": {},
   "outputs": [
    {
     "name": "stdout",
     "output_type": "stream",
     "text": [
      "x**2 + 2*x + 1\n"
     ]
    }
   ],
   "source": [
    "expr = x**2 + 2*x + 1\n",
    "simplified_expr = simplify(expr)\n",
    "print(simplified_expr)\n"
   ]
  },
  {
   "cell_type": "markdown",
   "metadata": {},
   "source": [
    "### Solving Equations\n",
    "#### You can solve equations symbolically:"
   ]
  },
  {
   "cell_type": "code",
   "execution_count": 13,
   "metadata": {},
   "outputs": [
    {
     "name": "stdout",
     "output_type": "stream",
     "text": [
      "[-2, 2]\n"
     ]
    }
   ],
   "source": [
    "eq = Eq(x**2 - 4, 0)\n",
    "sol = solve(eq, x)\n",
    "print(sol)\n"
   ]
  },
  {
   "cell_type": "markdown",
   "metadata": {},
   "source": [
    "### Calculus Operations\n",
    "#### You can perform calculus operations like differentiation and integration:"
   ]
  },
  {
   "cell_type": "code",
   "execution_count": 14,
   "metadata": {},
   "outputs": [
    {
     "name": "stdout",
     "output_type": "stream",
     "text": [
      "2*x + 2\n",
      "x**3/3 + x**2 + x\n"
     ]
    }
   ],
   "source": [
    "# Differentiation\n",
    "diff_expr = diff(x**2 + 2*x + 1, x)\n",
    "print(diff_expr)\n",
    "\n",
    "# Integration\n",
    "integral_expr = integrate(x**2 + 2*x + 1, x)\n",
    "print(integral_expr)\n"
   ]
  },
  {
   "cell_type": "markdown",
   "metadata": {},
   "source": [
    "### Working with Matrices\n",
    "#### You can also work with matrices:"
   ]
  },
  {
   "cell_type": "code",
   "execution_count": 15,
   "metadata": {},
   "outputs": [
    {
     "name": "stdout",
     "output_type": "stream",
     "text": [
      "-2\n"
     ]
    }
   ],
   "source": [
    "matrix = Matrix([[1, 2], [3, 4]])\n",
    "det = matrix.det()\n",
    "print(det)\n"
   ]
  },
  {
   "cell_type": "code",
   "execution_count": 1,
   "metadata": {},
   "outputs": [],
   "source": [
    "# importing sympy\n",
    "import sympy\n",
    "from sympy import symbols,Eq\n",
    "from sympy.solvers import solve"
   ]
  },
  {
   "cell_type": "code",
   "execution_count": 2,
   "metadata": {},
   "outputs": [
    {
     "name": "stdout",
     "output_type": "stream",
     "text": [
      "x =  [1]\n"
     ]
    }
   ],
   "source": [
    "x = symbols('x')\n",
    "eq = Eq(4*x - 4,0)\n",
    "print('x = ',solve(eq,x))"
   ]
  },
  {
   "cell_type": "markdown",
   "metadata": {},
   "source": [
    "### We can also solve the above problem as below"
   ]
  },
  {
   "cell_type": "code",
   "execution_count": 3,
   "metadata": {},
   "outputs": [
    {
     "data": {
      "text/plain": [
       "[1]"
      ]
     },
     "execution_count": 3,
     "metadata": {},
     "output_type": "execute_result"
    }
   ],
   "source": [
    "solve(eq,x)"
   ]
  },
  {
   "cell_type": "markdown",
   "metadata": {},
   "source": [
    "### Some other examples"
   ]
  },
  {
   "cell_type": "code",
   "execution_count": 7,
   "metadata": {},
   "outputs": [
    {
     "name": "stdout",
     "output_type": "stream",
     "text": [
      "x =  [-2, 2]\n",
      "x1 =  -2\n",
      "x2 = 2\n"
     ]
    }
   ],
   "source": [
    "eq2=Eq(2*x**2 - 8,0)\n",
    "solution =solve(eq2,x)\n",
    "print('x = ',solution)\n",
    "print('x1 = ',solution[0])\n",
    "print('x2 =',solution[1])"
   ]
  },
  {
   "cell_type": "code",
   "execution_count": 8,
   "metadata": {},
   "outputs": [
    {
     "name": "stdout",
     "output_type": "stream",
     "text": [
      "x =  -2\n",
      "x =  2\n"
     ]
    }
   ],
   "source": [
    "for s in solution:\n",
    "    print('x = ',s)"
   ]
  }
 ],
 "metadata": {
  "kernelspec": {
   "display_name": "Python 3",
   "language": "python",
   "name": "python3"
  },
  "language_info": {
   "codemirror_mode": {
    "name": "ipython",
    "version": 3
   },
   "file_extension": ".py",
   "mimetype": "text/x-python",
   "name": "python",
   "nbconvert_exporter": "python",
   "pygments_lexer": "ipython3",
   "version": "3.12.4"
  }
 },
 "nbformat": 4,
 "nbformat_minor": 2
}
